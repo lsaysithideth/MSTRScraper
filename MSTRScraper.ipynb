{
 "metadata": {
  "language_info": {
   "codemirror_mode": {
    "name": "ipython",
    "version": 3
   },
   "file_extension": ".py",
   "mimetype": "text/x-python",
   "name": "python",
   "nbconvert_exporter": "python",
   "pygments_lexer": "ipython3",
   "version": "3.8.3-final"
  },
  "orig_nbformat": 2,
  "kernelspec": {
   "name": "python38364bit2eebcbbf79b34d9c8d8296cac0ccd730",
   "display_name": "Python 3.8.3 64-bit"
  }
 },
 "nbformat": 4,
 "nbformat_minor": 2,
 "cells": [
  {
   "cell_type": "code",
   "execution_count": null,
   "metadata": {},
   "outputs": [],
   "source": [
    "from selenium import webdriver #another option is to import urllib.request if selenium is not available\n",
    "from selenium.webdriver.support.ui import WebDriverWait\n",
    "from selenium.webdriver.support import expected_conditions as EC\n",
    "from selenium.webdriver.common.by import By\n",
    "from selenium.common.exceptions import TimeoutException\n",
    "from bs4 import BeautifulSoup #Use bs4 by installing beautifulsoup4 in Python3\n",
    "import pandas as pd"
   ]
  },
  {
   "cell_type": "code",
   "execution_count": null,
   "metadata": {},
   "outputs": [],
   "source": [
    "driver = webdriver.Chrome(\"/usr/local/bin/chromedriver\") #Make sure chromedriver is installed beforehand"
   ]
  },
  {
   "cell_type": "code",
   "execution_count": null,
   "metadata": {
    "tags": []
   },
   "outputs": [],
   "source": [
    "pageUrl = []\n",
    "begUrl = \"https://community.microstrategy.com/s/global-search/%40uri?language=en_US#\"\n",
    "endUrl = \"&numberOfResults=100&f:Facet_Topics=[All,Clients,Web]&f:Facet_commoncontenttype=[Knowledge%20Base]&f:Facet_commonLanguage=[English]\"\n",
    "\n",
    "for i in range(0,10):\n",
    "    if i == 0:\n",
    "        Url = \"https://community.microstrategy.com/s/global-search/%40uri?language=en_US#sort=relevancy&numberOfResults=100&f:Facet_Topics=[All,Clients,Web]&f:Facet_commoncontenttype=[Knowledge%20Base]&f:Facet_commonLanguage=[English]\"\n",
    "    else:\n",
    "        pageNum = i*100\n",
    "        Url = begUrl + \"first=\" + str(pageNum) + \"&sort=relevancy\" + endUrl\n",
    "    \n",
    "    pageUrl.append(Url)\n",
    "\n",
    "    if i == 4 or 9:\n",
    "        dfP = pd.DataFrame({\"Page_URL\":pageUrl})\n",
    "        dfP.to_csv('Page_URL.csv', index=False, encoding='utf-8')\n",
    "\n",
    "print(pageUrl)"
   ]
  },
  {
   "cell_type": "code",
   "execution_count": null,
   "metadata": {
    "tags": []
   },
   "outputs": [],
   "source": [
    "kbLinks = [] #create empty list to append from for loop later\n",
    "for p in pageUrl:\n",
    "    driver.get(p)\n",
    "\n",
    "\n",
    "    delay = 10 # seconds\n",
    "    try:\n",
    "        myElem = WebDriverWait(driver, delay).until(EC.visibility_of_all_elements_located((By.CSS_SELECTOR, \"a.CoveoCustomSalesforceCommunityResultLink\"))) #Make sure ALL instances of \"CoveoCustomSalesforceCommunityResultLink\" element are found instead of just first one before closing webpage \n",
    "        print(\"Page is ready!\")\n",
    "    except TimeoutException:\n",
    "        print(\"Loading took too much time!\")\n",
    "\n",
    "    content = driver.page_source\n",
    "    soup = BeautifulSoup(content)\n",
    "\n",
    "    for link in soup.find_all('a',class_='CoveoCustomSalesforceCommunityResultLink CoveoResultLink',href=True):\n",
    "        kbLinks.append(link.get('href')) #copies the URL links\n",
    "    \n",
    "    if pageUrl.index(p) == 3 or 5 or 7 or 9:\n",
    "        dfK = pd.DataFrame({\"Link\":kbLinks})\n",
    "        dfK.to_csv('KB_Links.csv', index=False, encoding='utf-8')   \n",
    "\n"
   ]
  },
  {
   "cell_type": "code",
   "execution_count": null,
   "metadata": {
    "tags": [
     "outputPrepend"
    ]
   },
   "outputs": [],
   "source": [
    "authors = []\n",
    "link = []\n",
    "linkUnloaded = []\n",
    "for l in kbLinks:\n",
    "    driver.get(l)\n",
    "\n",
    "    delay = 10 # seconds\n",
    "    try:\n",
    "        myElem = WebDriverWait(driver, delay).until(EC.visibility_of_element_located((By.CSS_SELECTOR, \"span.userPhoto\"))) #\"span.userInfo username\" takes too much time so used \"userPhoto\" instead\n",
    "\n",
    "        print(\"Page is ready!\")\n",
    "    except TimeoutException:\n",
    "        print(\"Loading took too much time!\")\n",
    "    contentB = driver.page_source\n",
    "    soupB = BeautifulSoup(contentB)\n",
    "\n",
    "    for a in soupB.find_all('span',class_='userInfo userName'):\n",
    "        if a.text != '':\n",
    "            authors.append(a.text)\n",
    "            link.append(l)\n",
    "        else:\n",
    "            linkUnloaded.append(l) #LS Note: prints nothing at this time, not sure how to fix\n",
    "\n",
    "    if kbLinks.index(l) == 199 or 399 or 599 or 799 or 999: #LS Note: This if statement still prints for every index where instead I wanted it to print only for specific indices.  I'm not sure how to fix.\n",
    "        dfA = pd.DataFrame({'Author':authors,'Link':link})\n",
    "        dfA.to_csv('authors.csv', index=False, encoding='utf-8')\n",
    "        pct = round((kbLinks.index(l)/999)*100,0)\n",
    "        print('\\n----------\\n' + str(pct) +  ' percent progress\\n----------\\n')\n",
    "  \n",
    "a = {'Author':authors,'Link':link}\n",
    "b = {'Unloaded Link':linkUnloaded}\n",
    "dfA = pd.DataFrame(a)\n",
    "dfA.to_csv('authors.csv', index=False, encoding='utf-8')\n",
    "\n",
    "dfB = pd.DataFrame(b)\n",
    "dfB.to_csv('Unloaded Links.csv', index=False, encoding='utf-8')\n",
    "\n",
    "print(\"Loading done! You can close browser.\")"
   ]
  }
 ]
}