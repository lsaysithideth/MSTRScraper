{
 "metadata": {
  "language_info": {
   "codemirror_mode": {
    "name": "ipython",
    "version": 3
   },
   "file_extension": ".py",
   "mimetype": "text/x-python",
   "name": "python",
   "nbconvert_exporter": "python",
   "pygments_lexer": "ipython3",
   "version": "3.8.3-final"
  },
  "orig_nbformat": 2,
  "kernelspec": {
   "name": "python38364bit2eebcbbf79b34d9c8d8296cac0ccd730",
   "display_name": "Python 3.8.3 64-bit"
  }
 },
 "nbformat": 4,
 "nbformat_minor": 2,
 "cells": [
  {
   "cell_type": "code",
   "execution_count": 302,
   "metadata": {},
   "outputs": [],
   "source": [
    "from selenium import webdriver #another option is to import urllib.request if selenium is not available\n",
    "from selenium.webdriver.support.ui import WebDriverWait\n",
    "from selenium.webdriver.support import expected_conditions as EC\n",
    "from selenium.webdriver.common.by import By\n",
    "from selenium.common.exceptions import TimeoutException\n",
    "from bs4 import BeautifulSoup #Use bs4 by installing beautifulsoup4 in Python3\n",
    "import pandas as pd"
   ]
  },
  {
   "cell_type": "code",
   "execution_count": 311,
   "metadata": {},
   "outputs": [],
   "source": [
    "driver = webdriver.Chrome(\"/Applications/chromium-browser/chromedriver\") #Make sure chromedriver is installed beforehand"
   ]
  },
  {
   "cell_type": "code",
   "execution_count": 304,
   "metadata": {
    "tags": []
   },
   "outputs": [
    {
     "output_type": "stream",
     "name": "stdout",
     "text": "['https://community.microstrategy.com/s/global-search/%40uri?language=en_US#sort=relevancy&numberOfResults=100&f:Facet_Topics=[All,Clients,Web]&f:Facet_commoncontenttype=[Knowledge%20Base]&f:Facet_commonLanguage=[English]', 'https://community.microstrategy.com/s/global-search/%40uri?language=en_US#first=100&sort=relevancy&numberOfResults=100&f:Facet_Topics=[All,Clients,Web]&f:Facet_commoncontenttype=[Knowledge%20Base]&f:Facet_commonLanguage=[English]', 'https://community.microstrategy.com/s/global-search/%40uri?language=en_US#first=200&sort=relevancy&numberOfResults=100&f:Facet_Topics=[All,Clients,Web]&f:Facet_commoncontenttype=[Knowledge%20Base]&f:Facet_commonLanguage=[English]', 'https://community.microstrategy.com/s/global-search/%40uri?language=en_US#first=300&sort=relevancy&numberOfResults=100&f:Facet_Topics=[All,Clients,Web]&f:Facet_commoncontenttype=[Knowledge%20Base]&f:Facet_commonLanguage=[English]', 'https://community.microstrategy.com/s/global-search/%40uri?language=en_US#first=400&sort=relevancy&numberOfResults=100&f:Facet_Topics=[All,Clients,Web]&f:Facet_commoncontenttype=[Knowledge%20Base]&f:Facet_commonLanguage=[English]', 'https://community.microstrategy.com/s/global-search/%40uri?language=en_US#first=500&sort=relevancy&numberOfResults=100&f:Facet_Topics=[All,Clients,Web]&f:Facet_commoncontenttype=[Knowledge%20Base]&f:Facet_commonLanguage=[English]', 'https://community.microstrategy.com/s/global-search/%40uri?language=en_US#first=600&sort=relevancy&numberOfResults=100&f:Facet_Topics=[All,Clients,Web]&f:Facet_commoncontenttype=[Knowledge%20Base]&f:Facet_commonLanguage=[English]', 'https://community.microstrategy.com/s/global-search/%40uri?language=en_US#first=700&sort=relevancy&numberOfResults=100&f:Facet_Topics=[All,Clients,Web]&f:Facet_commoncontenttype=[Knowledge%20Base]&f:Facet_commonLanguage=[English]', 'https://community.microstrategy.com/s/global-search/%40uri?language=en_US#first=800&sort=relevancy&numberOfResults=100&f:Facet_Topics=[All,Clients,Web]&f:Facet_commoncontenttype=[Knowledge%20Base]&f:Facet_commonLanguage=[English]', 'https://community.microstrategy.com/s/global-search/%40uri?language=en_US#first=900&sort=relevancy&numberOfResults=100&f:Facet_Topics=[All,Clients,Web]&f:Facet_commoncontenttype=[Knowledge%20Base]&f:Facet_commonLanguage=[English]']\n"
    }
   ],
   "source": [
    "pageUrl = []\n",
    "begUrl = \"https://community.microstrategy.com/s/global-search/%40uri?language=en_US#\"\n",
    "endUrl = \"&numberOfResults=100&f:Facet_Topics=[All,Clients,Web]&f:Facet_commoncontenttype=[Knowledge%20Base]&f:Facet_commonLanguage=[English]\"\n",
    "\n",
    "for i in range(0,10):\n",
    "    if i == 0:\n",
    "        Url = \"https://community.microstrategy.com/s/global-search/%40uri?language=en_US#sort=relevancy&numberOfResults=100&f:Facet_Topics=[All,Clients,Web]&f:Facet_commoncontenttype=[Knowledge%20Base]&f:Facet_commonLanguage=[English]\"\n",
    "    else:\n",
    "        pageNum = i*100\n",
    "        Url = begUrl + \"first=\" + str(pageNum) + \"&sort=relevancy\" + endUrl\n",
    "    \n",
    "    pageUrl.append(Url)\n",
    "\n",
    "    if i == 4 or 9:\n",
    "        dfP = pd.DataFrame({\"Page_URL\":pageUrl})\n",
    "        dfP.to_csv('/Users/lindasaysithideth//Desktop/Page_URL.csv', index=False, encoding='utf-8')\n",
    "\n",
    "print(pageUrl)"
   ]
  },
  {
   "cell_type": "code",
   "execution_count": 305,
   "metadata": {
    "tags": []
   },
   "outputs": [
    {
     "output_type": "stream",
     "name": "stdout",
     "text": "Page is ready!\nPage is ready!\nPage is ready!\nPage is ready!\nPage is ready!\nPage is ready!\nPage is ready!\nPage is ready!\nPage is ready!\nPage is ready!\n"
    }
   ],
   "source": [
    "kbLinks = [] #create empty list to append from for loop later\n",
    "for p in pageUrl:\n",
    "    driver.get(p)\n",
    "\n",
    "\n",
    "    delay = 10 # seconds\n",
    "    try:\n",
    "        myElem = WebDriverWait(driver, delay).until(EC.visibility_of_all_elements_located((By.CSS_SELECTOR, \"a.CoveoCustomSalesforceCommunityResultLink\"))) #Make sure ALL instances of \"CoveoCustomSalesforceCommunityResultLink\" element are found instead of just first one before closing webpage \n",
    "        print(\"Page is ready!\")\n",
    "    except TimeoutException:\n",
    "        print(\"Loading took too much time!\")\n",
    "\n",
    "    content = driver.page_source\n",
    "    soup = BeautifulSoup(content)\n",
    "\n",
    "    for link in soup.find_all('a',class_='CoveoCustomSalesforceCommunityResultLink CoveoResultLink',href=True):\n",
    "        kbLinks.append(link.get('href')) #copies the URL links\n",
    "    \n",
    "    if pageUrl.index(p) == 3 or 5 or 7 or 9:\n",
    "        dfK = pd.DataFrame({\"Link\":kbLinks})\n",
    "        dfK.to_csv('/Users/lindasaysithideth//Desktop/KB_Links.csv', index=False, encoding='utf-8')   \n",
    "\n"
   ]
  },
  {
   "cell_type": "code",
   "execution_count": 312,
   "metadata": {
    "tags": [
     "outputPrepend"
    ]
   },
   "outputs": [
    {
     "output_type": "stream",
     "name": "stdout",
     "text": "wers-continue?language=undefined\n\n----------\n0.905 percent progress\n----------\n\nPage is ready!\nStefan Zepeda (IAE)\nhttps://community.microstrategy.com/s/article/KB204446-The-Prompt-details-section-still-shows-when-the-quot?language=undefined\n\n----------\n0.906 percent progress\n----------\n\nPage is ready!\nStefan Zepeda (IAE)\nhttps://community.microstrategy.com/s/article/KB43425-When-attempting-to-enable-SSL-encryption-for-traffic-to?language=undefined\n\n----------\n0.907 percent progress\n----------\n\nPage is ready!\nAlejandro Olvera Velasco (TPO)\nhttps://community.microstrategy.com/s/article/KB45104-quot-Drop-objects-here-to-add-rows-quot-and-quot-Drop?language=undefined\n\n----------\n0.908 percent progress\n----------\n\nPage is ready!\nBenjamin Reyes (TPM)\nhttps://community.microstrategy.com/s/article/KB206720-US-Zip-Codes-with-leading-zeros-are-not-automatically?language=undefined\n\n----------\n0.909 percent progress\n----------\n\nPage is ready!\nStefan Zepeda (IAE)\nhttps://community.microstrategy.com/s/article/KB41960-How-to-move-or-backup-a-Web-Server-configuration-of?language=undefined\n\n----------\n0.91 percent progress\n----------\n\nPage is ready!\nSuchita Verma (TPM)\nhttps://community.microstrategy.com/s/article/KB45324-What-are-the-prerequisites-to-use-the-ESRI-Map-Widget?language=undefined\n\n----------\n0.911 percent progress\n----------\n\nPage is ready!\nDanfeng Zhan (RPS)\nhttps://community.microstrategy.com/s/article/KB256879-Data-Wrangling-can-only-preview-1000-rows-of-data-in?language=undefined\n\n----------\n0.912 percent progress\n----------\n\nPage is ready!\nAlejandro Olvera Velasco (TPO)\nhttps://community.microstrategy.com/s/article/KB44743-Threshold-images-appear-enlarged-or-display-the-quot?language=undefined\n\n----------\n0.913 percent progress\n----------\n\nPage is ready!\nStefan Zepeda (IAE)\nhttps://community.microstrategy.com/s/article/KB42969-The-attribute-image-form-misaligns-when-exporting-a?language=undefined\n\n----------\n0.914 percent progress\n----------\n\nPage is ready!\nHolly Stevens (TPM)\nhttps://community.microstrategy.com/s/article/KB45413-Is-an-ESRI-key-required-for-MicroStrategy-ESRI-map?language=undefined\n\n----------\n0.915 percent progress\n----------\n\nPage is ready!\nStefan Zepeda (IAE)\nhttps://community.microstrategy.com/s/article/KB45302-Custom-formatting-does-not-appear-on-axes-values-on-a?language=undefined\n\n----------\n0.916 percent progress\n----------\n\nPage is ready!\nStefan Zepeda (IAE)\nhttps://community.microstrategy.com/s/article/KB42811-How-to-associate-an-Information-Window-with-the?language=undefined\n\n----------\n0.917 percent progress\n----------\n\nPage is ready!\nStefan Zepeda (IAE)\nhttps://community.microstrategy.com/s/article/KB41798-How-to-pass-prompt-in-prompt-answers-from-one-report-to?language=undefined\n\n----------\n0.918 percent progress\n----------\n\nPage is ready!\nStefan Zepeda (IAE)\nhttps://community.microstrategy.com/s/article/KB41860-What-are-the-timeout-settings-controlled-by-IIS-7-that?language=undefined\n\n----------\n0.919 percent progress\n----------\n\nPage is ready!\nStefan Zepeda (IAE)\nhttps://community.microstrategy.com/s/article/KB45063-quot-Error-2007-quot-is-displayed-when-ESRI-map-is?language=undefined\n\n----------\n0.92 percent progress\n----------\n\nPage is ready!\nStefan Zepeda (IAE)\nhttps://community.microstrategy.com/s/article/KB221733-Advanced-sorting-options-in-Visual-Insight-in?language=undefined\n\n----------\n0.921 percent progress\n----------\n\nPage is ready!\nStefan Zepeda (IAE)\nhttps://community.microstrategy.com/s/article/KB41899-In-MicroStrategy-Web-9-0-x-9-2-x-and-9-3-x-labels-within?language=undefined\n\n----------\n0.922 percent progress\n----------\n\nPage is ready!\nStefan Zepeda (IAE)\nhttps://community.microstrategy.com/s/article/KB45565-quot-Boot-strap-sequence-has-failed-Fetch-Resource?language=undefined\n\n----------\n0.923 percent progress\n----------\n\nPage is ready!\nStefan Zepeda (IAE)\nhttps://community.microstrategy.com/s/article/KB45291-quot-QueryTask-Error-Error-undefined-quot-error-appears?language=undefined\n\n----------\n0.924 percent progress\n----------\n\nPage is ready!\nStefan Zepeda (IAE)\nhttps://community.microstrategy.com/s/article/KB45420-Prompt-in-Freeform-SQL-report-changes-to-static-when-run?language=undefined\n\n----------\n0.925 percent progress\n----------\n\nPage is ready!\nStefan Zepeda (IAE)\nhttps://community.microstrategy.com/s/article/KB45180-Google-Map-visualization-for-newly-created-dashboard-is?language=undefined\n\n----------\n0.926 percent progress\n----------\n\nPage is ready!\nStefan Zepeda (IAE)\nhttps://community.microstrategy.com/s/article/KB45050-Cannot-set-Alert-Based-Subscriptions-for-Documents-in?language=undefined\n\n----------\n0.927 percent progress\n----------\n\nPage is ready!\nStefan Zepeda (IAE)\nhttps://community.microstrategy.com/s/article/KB41977-Drill-map-to-drill-outside-of-the-data?language=undefined\n\n----------\n0.928 percent progress\n----------\n\nPage is ready!\nStefan Zepeda (IAE)\nhttps://community.microstrategy.com/s/article/KB45336-How-to-change-preferences-for-web-users-using-URL-API-in?language=undefined\n\n----------\n0.929 percent progress\n----------\n\nPage is ready!\nStefan Zepeda (IAE)\nhttps://community.microstrategy.com/s/article/KB204860-quot-Error-in-document-results-You-have-included-an?language=undefined\n\n----------\n0.93 percent progress\n----------\n\nPage is ready!\nStefan Zepeda (IAE)\nhttps://community.microstrategy.com/s/article/KB249716-New-Feature-in-MicroStrategy-Web-10-Ability-to-create?language=undefined\n\n----------\n0.931 percent progress\n----------\n\nPage is ready!\nStefan Zepeda (IAE)\nhttps://community.microstrategy.com/s/article/KB44865-Images-used-in-a-threshold-on-a-report-in-a-document?language=undefined\n\n----------\n0.932 percent progress\n----------\n\nPage is ready!\nStefan Zepeda (IAE)\nhttps://community.microstrategy.com/s/article/KB256881-Interactive-and-Flash-mode-are-not-available-as-display?language=undefined\n\n----------\n0.933 percent progress\n----------\n\nPage is ready!\nStefan Zepeda (IAE)\nhttps://community.microstrategy.com/s/article/KB249771-The-scroll-bar-in-a-Visual-Insight-dashboard-has-a?language=undefined\n\n----------\n0.934 percent progress\n----------\n\nPage is ready!\nStefan Zepeda (IAE)\nhttps://community.microstrategy.com/s/article/KB45690-quot-1-referred-object-is-not-found-in-connectivity-pool?language=undefined\n\n----------\n0.935 percent progress\n----------\n\nPage is ready!\nStefan Zepeda (IAE)\nhttps://community.microstrategy.com/s/article/KB43357-After-exporting-a-Document-in-MicroStrategy-Web-9-3-x?language=undefined\n\n----------\n0.936 percent progress\n----------\n\nPage is ready!\nStefan Zepeda (IAE)\nhttps://community.microstrategy.com/s/article/KB43022-ASP-NET-session-timeout-setting-is-not-active-when?language=undefined\n\n----------\n0.937 percent progress\n----------\n\nPage is ready!\nStefan Zepeda (IAE)\nhttps://community.microstrategy.com/s/article/KB45156-quot-Error-in-login-Invalid-login-mode-quot-appears-when?language=undefined\n\n----------\n0.938 percent progress\n----------\n\nPage is ready!\nStefan Zepeda (IAE)\nhttps://community.microstrategy.com/s/article/KB45434-quot-Unknown-quot-is-shown-in-tooltip-instead-of-the-URL?language=undefined\n\n----------\n0.939 percent progress\n----------\n\nPage is ready!\nStefan Zepeda (IAE)\nhttps://community.microstrategy.com/s/article/KB205314-Has-the-quot-Google-Maps-API-quot-service-changed-to?language=undefined\n\n----------\n0.94 percent progress\n----------\n\nPage is ready!\nStefan Zepeda (IAE)\nhttps://community.microstrategy.com/s/article/KB41603-How-to-enable-Flash-Profiler-in-MicroStrategy-Web-9-3-x?language=undefined\n\n----------\n0.941 percent progress\n----------\n\nPage is ready!\nStefan Zepeda (IAE)\nhttps://community.microstrategy.com/s/article/KB43344-No-mappable-attributes-present-on-the-report-message?language=undefined\n\n----------\n0.942 percent progress\n----------\n\nPage is ready!\nStefan Zepeda (IAE)\nhttps://community.microstrategy.com/s/article/KB205396-The-Total-Position-Sort-option-is-not-available-in?language=undefined\n\n----------\n0.943 percent progress\n----------\n\nPage is ready!\nStefan Zepeda (IAE)\nhttps://community.microstrategy.com/s/article/KB203210-Grid-Headers-Do-Not-Word-Wrap-in-Express-Mode-when?language=undefined\n\n----------\n0.944 percent progress\n----------\n\nPage is ready!\nStefan Zepeda (IAE)\nhttps://community.microstrategy.com/s/article/KB45086-Advanced-Search-suggestions-show-behind-the-object?language=undefined\n\n----------\n0.945 percent progress\n----------\n\nPage is ready!\nStefan Zepeda (IAE)\nhttps://community.microstrategy.com/s/article/KB45359-Other-users-are-still-able-to-view-and-run-reports-which?language=undefined\n\n----------\n0.946 percent progress\n----------\n\nPage is ready!\nStefan Zepeda (IAE)\nhttps://community.microstrategy.com/s/article/KB42185-When-changing-a-9-3-0-Visual-Insight-Analysis-from-Heat?language=undefined\n\n----------\n0.947 percent progress\n----------\n\nPage is ready!\nStefan Zepeda (IAE)\nhttps://community.microstrategy.com/s/article/KB45421-When-setting-SizeBy-marker-and-Use-as-Filter-in-Bubble?language=undefined\n\n----------\n0.948 percent progress\n----------\n\nPage is ready!\nStefan Zepeda (IAE)\nhttps://community.microstrategy.com/s/article/KB44740-Microchart-bar-color-options-for-positive-and-negative?language=undefined\n\n----------\n0.949 percent progress\n----------\n\nPage is ready!\nStefan Zepeda (IAE)\nhttps://community.microstrategy.com/s/article/KB204390-Links-to-external-files-starting-with-the-quot-file?language=undefined\n\n----------\n0.95 percent progress\n----------\n\nPage is ready!\nStefan Zepeda (IAE)\nhttps://community.microstrategy.com/s/article/KB45162-Quick-Search-tooltips-for-objects-inside-hidden-folders?language=undefined\n\n----------\n0.951 percent progress\n----------\n\nPage is ready!\nStefan Zepeda (IAE)\nhttps://community.microstrategy.com/s/article/KB45520-Left-pin-slider-is-invisible-in-Time-Series-Slider-when?language=undefined\n\n----------\n0.952 percent progress\n----------\n\nPage is ready!\nStefan Zepeda (IAE)\nhttps://community.microstrategy.com/s/article/KB261882-Internet-Explorer-10-crashes-when-using-the-mailto-link?language=undefined\n\n----------\n0.953 percent progress\n----------\n\nPage is ready!\nStefan Zepeda (IAE)\nhttps://community.microstrategy.com/s/article/KB45327-The-legend-is-black-with-NULL-and-the-color-threshold-is?language=undefined\n\n----------\n0.954 percent progress\n----------\n\nPage is ready!\nStefan Zepeda (IAE)\nhttps://community.microstrategy.com/s/article/KB45157-Attribute-elements-get-truncated-with-ellipsis-quot-quot?language=undefined\n\n----------\n0.955 percent progress\n----------\n\nPage is ready!\nStefan Zepeda (IAE)\nhttps://community.microstrategy.com/s/article/KB42096-The-Font-property-does-not-show-in-Properties-and?language=undefined\n\n----------\n0.956 percent progress\n----------\n\nPage is ready!\nStefan Zepeda (IAE)\nhttps://community.microstrategy.com/s/article/KB44762-The-context-menu-item-to-modify-Attribute-Forms?language=undefined\n\n----------\n0.957 percent progress\n----------\n\nPage is ready!\nStefan Zepeda (IAE)\nhttps://community.microstrategy.com/s/article/KB41791-quot-The-length-of-the-query-string-for-this-request?language=undefined\n\n----------\n0.958 percent progress\n----------\n\nPage is ready!\nStefan Zepeda (IAE)\nhttps://community.microstrategy.com/s/article/KB42987-New-Undo-Redo-feature-for-Visual-Insight-in?language=undefined\n\n----------\n0.959 percent progress\n----------\n\nPage is ready!\nStefan Zepeda (IAE)\nhttps://community.microstrategy.com/s/article/KB43438-Objects-on-a-grid-report-which-are-selected-using-an?language=undefined\n\n----------\n0.96 percent progress\n----------\n\nPage is ready!\nStefan Zepeda (IAE)\nhttps://community.microstrategy.com/s/article/KB45422-Korean-is-broken-in-Search-Box-display-type-Filter-in-Visual-Insight-in-MicroStrategy-Analytics-Enterprise-Web-9-4-1?language=undefined\n\n----------\n0.961 percent progress\n----------\n\nPage is ready!\nStefan Zepeda (IAE)\nhttps://community.microstrategy.com/s/article/KB44737-Original-size-of-graphs-is-not-persisted-after?language=undefined\n\n----------\n0.962 percent progress\n----------\n\nPage is ready!\nStefan Zepeda (IAE)\nhttps://community.microstrategy.com/s/article/KB259251-How-to-disable-grid-interactivity-in-Flash-Mode-in?language=undefined\n\n----------\n0.963 percent progress\n----------\n\nPage is ready!\nStefan Zepeda (IAE)\nhttps://community.microstrategy.com/s/article/KB43031-While-navigating-between-the-elements-in-a-fish-eye?language=undefined\n\n----------\n0.964 percent progress\n----------\n\nPage is ready!\nStefan Zepeda (IAE)\nhttps://community.microstrategy.com/s/article/KB43018-quot-Error-in-report-results-found-0-matching-object-s?language=undefined\n\n----------\n0.965 percent progress\n----------\n\nPage is ready!\nStefan Zepeda (IAE)\nhttps://community.microstrategy.com/s/article/KB44744-Shortcut-objects-appear-as-search-results-in-Quick?language=undefined\n\n----------\n0.966 percent progress\n----------\n\nPage is ready!\nStefan Zepeda (IAE)\nhttps://community.microstrategy.com/s/article/KB45579-How-to-use-multiple-attributes-as-selectors-to-target?language=undefined\n\n----------\n0.967 percent progress\n----------\n\nPage is ready!\nStefan Zepeda (IAE)\nhttps://community.microstrategy.com/s/article/KB45229-Behavior-difference-when-Slicing-Selector-targets-a?language=undefined\n\n----------\n0.968 percent progress\n----------\n\nPage is ready!\nStefan Zepeda (IAE)\nhttps://community.microstrategy.com/s/article/KB259697-How-to-use-Information-Windows-as-selector-to-simulate?language=undefined\n\n----------\n0.969 percent progress\n----------\n\nPage is ready!\nStefan Zepeda (IAE)\nhttps://community.microstrategy.com/s/article/KB45598-Multiple-checkbox-selectors-in-a-Visual-Insight?language=undefined\n\n----------\n0.97 percent progress\n----------\n\nPage is ready!\nStefan Zepeda (IAE)\nhttps://community.microstrategy.com/s/article/KB41965-How-to-remove-the-metric-name-in-the-legend-of-a-graph?language=undefined\n\n----------\n0.971 percent progress\n----------\n\nPage is ready!\nStefan Zepeda (IAE)\nhttps://community.microstrategy.com/s/article/KB44756-Advanced-threshold-set-to-replace-with-an-image-will-not?language=undefined\n\n----------\n0.972 percent progress\n----------\n\nPage is ready!\nStefan Zepeda (IAE)\nhttps://community.microstrategy.com/s/article/KB259325-How-to-configure-the-imageServlet-redirect-URL-when?language=undefined\n\n----------\n0.973 percent progress\n----------\n\nPage is ready!\nStefan Zepeda (IAE)\nhttps://community.microstrategy.com/s/article/KB203442-How-to-change-the-default-operator-for-attribute?language=undefined\n\n----------\n0.974 percent progress\n----------\n\nPage is ready!\nStefan Zepeda (IAE)\nhttps://community.microstrategy.com/s/article/KB43016-Attribute-elements-are-not-sorted-according-to-the-the?language=undefined\n\n----------\n0.975 percent progress\n----------\n\nPage is ready!\nStefan Zepeda (IAE)\nhttps://community.microstrategy.com/s/article/KB43003-Qualification-is-not-applied-on-attributes-at-higher?language=undefined\n\n----------\n0.976 percent progress\n----------\n\nPage is ready!\nStefan Zepeda (IAE)\nhttps://community.microstrategy.com/s/article/KB44733-quot-From-Grid-quot-quot-Default-quot-and-quot-General?language=undefined\n\n----------\n0.977 percent progress\n----------\n\nPage is ready!\nStefan Zepeda (IAE)\nhttps://community.microstrategy.com/s/article/KB43198-quot-Error-in-layout-lt-Unknown-gt-quot-error-message?language=undefined\n\n----------\n0.978 percent progress\n----------\n\nPage is ready!\nStefan Zepeda (IAE)\nhttps://community.microstrategy.com/s/article/KB45068-All-elements-get-checked-upon-clicking-quot-Apply-quot?language=undefined\n\n----------\n0.979 percent progress\n----------\n\nPage is ready!\nStefan Zepeda (IAE)\nhttps://community.microstrategy.com/s/article/KB261864-In-MicroStrategy-Web-10-the-Search-feature-when?language=undefined\n\n----------\n0.98 percent progress\n----------\n\nPage is ready!\nStefan Zepeda (IAE)\nhttps://community.microstrategy.com/s/article/KB45017-The-Load-Default-Values-button-no-longer-works-after?language=undefined\n\n----------\n0.981 percent progress\n----------\n\nPage is ready!\nStefan Zepeda (IAE)\nhttps://community.microstrategy.com/s/article/KB43367-Prompt-report-execution-stuck-in-state-of-processing?language=undefined\n\n----------\n0.982 percent progress\n----------\n\nPage is ready!\nStefan Zepeda (IAE)\nhttps://community.microstrategy.com/s/article/KB45053-Users-are-redirected-to-the-Microsoft-IIS-home-page-when?language=undefined\n\n----------\n0.983 percent progress\n----------\n\nPage is ready!\nStefan Zepeda (IAE)\nhttps://community.microstrategy.com/s/article/KB42072-Resize-column-with-zero-width-is-not-working-in-flash?language=undefined\n\n----------\n0.984 percent progress\n----------\n\nPage is ready!\nStefan Zepeda (IAE)\nhttps://community.microstrategy.com/s/article/KB44929-New-feature-in-MicroStrategy-web-9-4-0-Duplication-of-a?language=undefined\n\n----------\n0.985 percent progress\n----------\n\nPage is ready!\nStefan Zepeda (IAE)\nhttps://community.microstrategy.com/s/article/KB45527-Image-is-grayed-out-when-being-used-as-a-selector-in?language=undefined\n\n----------\n0.986 percent progress\n----------\n\nPage is ready!\nStefan Zepeda (IAE)\nhttps://community.microstrategy.com/s/article/KB44779-Inserting-attributes-into-the-page-by-using-the-Quick?language=undefined\n\n----------\n0.987 percent progress\n----------\n\nPage is ready!\nStefan Zepeda (IAE)\nhttps://community.microstrategy.com/s/article/KB41930-Login-page-in-old-Look-and-Feel-MicroStrategy-Web-9-3?language=undefined\n\n----------\n0.988 percent progress\n----------\n\nPage is ready!\nStefan Zepeda (IAE)\nhttps://community.microstrategy.com/s/article/KB205104-Error-53-on-input-or-output-to-a-file-error-in-the?language=undefined\n\n----------\n0.989 percent progress\n----------\n\nPage is ready!\nStefan Zepeda (IAE)\nhttps://community.microstrategy.com/s/article/KB45531-quot-Error-Saving-Personal-Preferences-Editing-an?language=undefined\n\n----------\n0.99 percent progress\n----------\n\nPage is ready!\nStefan Zepeda (IAE)\nhttps://community.microstrategy.com/s/article/KB208268-Displaying-properties-and-formatting-with-a-user-with?language=undefined\n\n----------\n0.991 percent progress\n----------\n\nPage is ready!\nStefan Zepeda (IAE)\nhttps://community.microstrategy.com/s/article/KB206822-Data-Import-Preview-Editor-does-not-recognize-an-Excel?language=undefined\n\n----------\n0.992 percent progress\n----------\n\nPage is ready!\nStefan Zepeda (IAE)\nhttps://community.microstrategy.com/s/article/KB45283-quot-Row-Count-quot-metric-shown-blank-label-or?language=undefined\n\n----------\n0.993 percent progress\n----------\n\nPage is ready!\nStefan Zepeda (IAE)\nhttps://community.microstrategy.com/s/article/KB43416-Microsoft-Excel-file-will-have-corrupt-formatting-after?language=undefined\n\n----------\n0.994 percent progress\n----------\n\nPage is ready!\nStefan Zepeda (IAE)\nhttps://community.microstrategy.com/s/article/KB43678-A-checkbox-selector-loses-all-of-its-selections-when-the?language=undefined\n\n----------\n0.995 percent progress\n----------\n\nPage is ready!\nStefan Zepeda (IAE)\nhttps://community.microstrategy.com/s/article/KB45300-When-using-a-customized-graph-Auto-Style-will-the-quot?language=undefined\n\n----------\n0.996 percent progress\n----------\n\nPage is ready!\nStefan Zepeda (IAE)\nhttps://community.microstrategy.com/s/article/KB45040-Search-box-selector-behaves-differently-when-running-a?language=undefined\n\n----------\n0.997 percent progress\n----------\n\nPage is ready!\nStefan Zepeda (IAE)\nhttps://community.microstrategy.com/s/article/KB45419-The-Big-Decimal-data-is-rounded-to-17-digits-in-Flash?language=undefined\n\n----------\n0.998 percent progress\n----------\n\nPage is ready!\nStefan Zepeda (IAE)\nhttps://community.microstrategy.com/s/article/KB45074-quot-Fit-to-contents-quot-for-height-does-not-work-for?language=undefined\n\n----------\n0.999 percent progress\n----------\n\nPage is ready!\nStefan Zepeda (IAE)\nhttps://community.microstrategy.com/s/article/KB45303-Custom-formatting-does-not-appear-on-Interactive-Bubble?language=undefined\n\n----------\n1.0 percent progress\n----------\n\nLoading done! You can close browser.\n"
    }
   ],
   "source": [
    "authors = []\n",
    "link = []\n",
    "linkUnloaded = []\n",
    "for l in kbLinks:\n",
    "    driver.get(l)\n",
    "\n",
    "    delay = 10 # seconds\n",
    "    try:\n",
    "        myElem = WebDriverWait(driver, delay).until(EC.visibility_of_element_located((By.CSS_SELECTOR, \"span.userPhoto\"))) #\"span.userInfo username\" takes too much time so used \"userPhoto\" instead\n",
    "\n",
    "        print(\"Page is ready!\")\n",
    "    except TimeoutException:\n",
    "        print(\"Loading took too much time!\")\n",
    "    contentB = driver.page_source\n",
    "    soupB = BeautifulSoup(contentB)\n",
    "\n",
    "    for a in soupB.find_all('span',class_='userInfo userName'):\n",
    "        print(a.text)\n",
    "        print(l)\n",
    "        if a.text != '':\n",
    "            authors.append(a.text)\n",
    "            link.append(l)\n",
    "        else:\n",
    "            linkUnloaded.append(l) #LS Note: prints nothing at this time, not sure how to fix\n",
    "\n",
    "    if kbLinks.index(l) == 199 or 399 or 599 or 799 or 999: #LS Note: This if statement still prints for every index where instead I wanted it to print only for specific indices.  I'm not sure how to fix.\n",
    "        dfA = pd.DataFrame({'Author':authors,'Link':link})\n",
    "        dfA.to_csv('/Users/lindasaysithideth//Desktop/authors.csv', index=False, encoding='utf-8')\n",
    "        pct = round((kbLinks.index(l)/999)*100,0)\n",
    "        print('\\n----------\\n' + str(pct) +  ' percent progress\\n----------\\n')\n",
    "        print(kbLinks.index(l))\n",
    "  \n",
    "a = {'Author':authors,'Link':link}\n",
    "b = {'Unloaded Link':linkUnloaded}\n",
    "dfA = pd.DataFrame(a)\n",
    "dfA.to_csv('/Users/lindasaysithideth//Desktop/authors.csv', index=False, encoding='utf-8')\n",
    "\n",
    "dfB = pd.DataFrame(b)\n",
    "dfB.to_csv('/Users/lindasaysithideth//Desktop/Unloaded Links.csv', index=False, encoding='utf-8')\n",
    "\n",
    "print(\"Loading done! You can close browser.\")"
   ]
  },
  {
   "cell_type": "code",
   "execution_count": 182,
   "metadata": {
    "tags": []
   },
   "outputs": [
    {
     "output_type": "stream",
     "name": "stdout",
     "text": "['https://community.microstrategy.com/s/article/KB483019-How-to-check-Platform-Analytics-Services?language=undefined']\n"
    }
   ],
   "source": [
    "print(link)"
   ]
  },
  {
   "cell_type": "code",
   "execution_count": null,
   "metadata": {
    "tags": [
     "outputPrepend"
    ]
   },
   "outputs": [],
   "source": [
    "print(soupB.prettify())"
   ]
  },
  {
   "cell_type": "code",
   "execution_count": 255,
   "metadata": {
    "tags": []
   },
   "outputs": [
    {
     "output_type": "stream",
     "name": "stdout",
     "text": "['Jing (Sally) Cheng (PPC)', 'Somnath Sadhukhan', 'Joshua Schellhammer (TPM)', 'Jeffrey Wyman (RSS)', 'Utkarsha Bhave (ECM)', 'Utkarsha Bhave (ECM)', 'Utkarsha Bhave (ECM)', 'Utkarsha Bhave (ECM)', 'Utkarsha Bhave (ECM)', 'Utkarsha Bhave (ECM)']\n"
    }
   ],
   "source": [
    "print(authors)"
   ]
  },
  {
   "cell_type": "code",
   "execution_count": 277,
   "metadata": {
    "tags": []
   },
   "outputs": [
    {
     "output_type": "stream",
     "name": "stdout",
     "text": "['https://community.microstrategy.com/s/article/KB46836-quot-com-microstrategy-webapi-MSTRWebAPIException?language=undefined', 'https://community.microstrategy.com/s/article/KB46442-quot-Inbox-message-result-is-not-ready-quot-error-occurs?language=undefined', 'https://community.microstrategy.com/s/article/KB237201-Derived-metrics-calculate-differently-when-created-from?language=undefined', 'https://community.microstrategy.com/s/article/KB213522-How-to-remove-Category-and-Series-from-tooltips-in-a?language=undefined', 'https://community.microstrategy.com/s/article/KB200882-Username-and-password-is-still-required-after-check-Use?language=undefined', 'https://community.microstrategy.com/s/article/KB226970-Scroll-bars-do-not-work-when-running-a-report-with?language=undefined', 'https://community.microstrategy.com/s/article/KB218565-How-to-mimic-a-grid-with-images-as-attribute-form-in?language=undefined', 'https://community.microstrategy.com/s/article/KB46131-How-to-simulate-a-quot-back-button-quot-and-link-a?language=undefined', 'https://community.microstrategy.com/s/article/KB232732-How-do-the-subtotal-options-differ-in-a-derived-element?language=undefined', 'https://community.microstrategy.com/s/article/KB47102-How-to-find-the-list-of-Certified-and-Supported?language=undefined']\n"
    }
   ],
   "source": [
    "print(kbLinks)"
   ]
  },
  {
   "cell_type": "code",
   "execution_count": 192,
   "metadata": {},
   "outputs": [],
   "source": [
    "dfK = pd.DataFrame({\"Link\":kbLinks})\n",
    "dfK.to_csv('/Users/lindasaysithideth//Desktop/KB_Links.csv', index=False, encoding='utf-8')"
   ]
  },
  {
   "cell_type": "code",
   "execution_count": 254,
   "metadata": {
    "tags": []
   },
   "outputs": [
    {
     "output_type": "stream",
     "name": "stdout",
     "text": "[]\n"
    }
   ],
   "source": [
    "print(linkUnloaded)"
   ]
  },
  {
   "cell_type": "code",
   "execution_count": 198,
   "metadata": {
    "tags": []
   },
   "outputs": [
    {
     "output_type": "stream",
     "name": "stdout",
     "text": "<span class=\"userInfo userName\" data-aura-rendered-by=\"107:186;a\"><span data-aura-rendered-by=\"108:186;a\">Jing (Sally) Cheng (PPC)</span></span>\n"
    }
   ],
   "source": [
    "print(a)"
   ]
  },
  {
   "cell_type": "code",
   "execution_count": 200,
   "metadata": {
    "tags": []
   },
   "outputs": [
    {
     "output_type": "stream",
     "name": "stdout",
     "text": "https://community.microstrategy.com/s/article/Office용-MicroStrategy-사용?language=undefined\n"
    }
   ],
   "source": [
    "print(l)"
   ]
  },
  {
   "cell_type": "code",
   "execution_count": 293,
   "metadata": {
    "tags": []
   },
   "outputs": [
    {
     "output_type": "stream",
     "name": "stdout",
     "text": "100\n"
    }
   ],
   "source": [
    "count = len(driver.find_elements_by_css_selector(\"a.CoveoCustomSalesforceCommunityResultLink\"))\n",
    "print(count)"
   ]
  },
  {
   "cell_type": "code",
   "execution_count": 309,
   "metadata": {
    "tags": []
   },
   "outputs": [
    {
     "output_type": "stream",
     "name": "stdout",
     "text": "11\n"
    }
   ],
   "source": [
    "print(kbLinks.index(l))"
   ]
  },
  {
   "cell_type": "code",
   "execution_count": null,
   "metadata": {},
   "outputs": [],
   "source": []
  }
 ]
}